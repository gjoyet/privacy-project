{
 "cells": [
  {
   "cell_type": "markdown",
   "id": "82b6a7ed",
   "metadata": {},
   "source": [
    "# Prelude\n",
    "\n",
    "This first section loads the required packages and defines the needed privacy mechanism."
   ]
  },
  {
   "cell_type": "code",
   "execution_count": 1,
   "id": "43561d12",
   "metadata": {},
   "outputs": [
    {
     "name": "stdout",
     "output_type": "stream",
     "text": [
      "Collecting causaldata\n",
      "  Downloading causaldata-0.1.3.tar.gz (2.6 MB)\n",
      "\u001b[K     |████████████████████████████████| 2.6 MB 722 kB/s eta 0:00:01\n",
      "\u001b[?25hRequirement already satisfied: statsmodels in /opt/anaconda3/lib/python3.9/site-packages (from causaldata) (0.13.2)\n",
      "Requirement already satisfied: pandas in /opt/anaconda3/lib/python3.9/site-packages (from causaldata) (1.4.2)\n",
      "Requirement already satisfied: python-dateutil>=2.8.1 in /opt/anaconda3/lib/python3.9/site-packages (from pandas->causaldata) (2.8.2)\n",
      "Requirement already satisfied: pytz>=2020.1 in /opt/anaconda3/lib/python3.9/site-packages (from pandas->causaldata) (2021.3)\n",
      "Requirement already satisfied: numpy>=1.18.5 in /opt/anaconda3/lib/python3.9/site-packages (from pandas->causaldata) (1.21.6)\n",
      "Requirement already satisfied: six>=1.5 in /opt/anaconda3/lib/python3.9/site-packages (from python-dateutil>=2.8.1->pandas->causaldata) (1.16.0)\n",
      "Requirement already satisfied: scipy>=1.3 in /opt/anaconda3/lib/python3.9/site-packages (from statsmodels->causaldata) (1.7.3)\n",
      "Requirement already satisfied: packaging>=21.3 in /opt/anaconda3/lib/python3.9/site-packages (from statsmodels->causaldata) (21.3)\n",
      "Requirement already satisfied: patsy>=0.5.2 in /opt/anaconda3/lib/python3.9/site-packages (from statsmodels->causaldata) (0.5.2)\n",
      "Requirement already satisfied: pyparsing!=3.0.5,>=2.0.2 in /opt/anaconda3/lib/python3.9/site-packages (from packaging>=21.3->statsmodels->causaldata) (3.0.4)\n",
      "Building wheels for collected packages: causaldata\n",
      "  Building wheel for causaldata (setup.py) ... \u001b[?25ldone\n",
      "\u001b[?25h  Created wheel for causaldata: filename=causaldata-0.1.3-py3-none-any.whl size=2645617 sha256=077386a642717ea3f979ea33f6ac9df86d755c8a0b27c0840e92d65cea0798b9\n",
      "  Stored in directory: /Users/joyet/Library/Caches/pip/wheels/ce/0b/ea/6688ee5db67bccf7d9e46882bf80ad0959a3d6de15b4352254\n",
      "Successfully built causaldata\n",
      "Installing collected packages: causaldata\n",
      "Successfully installed causaldata-0.1.3\n"
     ]
    }
   ],
   "source": [
    "!pip install causaldata"
   ]
  },
  {
   "cell_type": "code",
   "execution_count": 17,
   "id": "fe0b1dce",
   "metadata": {},
   "outputs": [],
   "source": [
    "import pandas as pd\n",
    "import numpy as np\n",
    "from scipy import stats\n",
    "import matplotlib.pyplot as plt\n",
    "import seaborn as sns\n",
    "import statsmodels.api as sm\n",
    "\n",
    "import causaldata"
   ]
  },
  {
   "cell_type": "code",
   "execution_count": 36,
   "id": "f508103b",
   "metadata": {},
   "outputs": [
    {
     "data": {
      "text/html": [
       "<div>\n",
       "<style scoped>\n",
       "    .dataframe tbody tr th:only-of-type {\n",
       "        vertical-align: middle;\n",
       "    }\n",
       "\n",
       "    .dataframe tbody tr th {\n",
       "        vertical-align: top;\n",
       "    }\n",
       "\n",
       "    .dataframe thead th {\n",
       "        text-align: right;\n",
       "    }\n",
       "</style>\n",
       "<table border=\"1\" class=\"dataframe\">\n",
       "  <thead>\n",
       "    <tr style=\"text-align: right;\">\n",
       "      <th></th>\n",
       "      <th>seqn</th>\n",
       "      <th>qsmk</th>\n",
       "      <th>death</th>\n",
       "      <th>yrdth</th>\n",
       "      <th>modth</th>\n",
       "      <th>dadth</th>\n",
       "      <th>sbp</th>\n",
       "      <th>dbp</th>\n",
       "      <th>sex</th>\n",
       "      <th>age</th>\n",
       "      <th>...</th>\n",
       "      <th>hightax82</th>\n",
       "      <th>price71</th>\n",
       "      <th>price82</th>\n",
       "      <th>tax71</th>\n",
       "      <th>tax82</th>\n",
       "      <th>price71_82</th>\n",
       "      <th>tax71_82</th>\n",
       "      <th>id</th>\n",
       "      <th>censored</th>\n",
       "      <th>older</th>\n",
       "    </tr>\n",
       "  </thead>\n",
       "  <tbody>\n",
       "    <tr>\n",
       "      <th>0</th>\n",
       "      <td>233.0</td>\n",
       "      <td>0.0</td>\n",
       "      <td>0.0</td>\n",
       "      <td>NaN</td>\n",
       "      <td>NaN</td>\n",
       "      <td>NaN</td>\n",
       "      <td>175.0</td>\n",
       "      <td>96.0</td>\n",
       "      <td>0</td>\n",
       "      <td>42.0</td>\n",
       "      <td>...</td>\n",
       "      <td>0.0</td>\n",
       "      <td>2.183594</td>\n",
       "      <td>1.739990</td>\n",
       "      <td>1.102295</td>\n",
       "      <td>0.461975</td>\n",
       "      <td>0.443787</td>\n",
       "      <td>0.640381</td>\n",
       "      <td>1</td>\n",
       "      <td>0.0</td>\n",
       "      <td>0.0</td>\n",
       "    </tr>\n",
       "    <tr>\n",
       "      <th>1</th>\n",
       "      <td>235.0</td>\n",
       "      <td>0.0</td>\n",
       "      <td>0.0</td>\n",
       "      <td>NaN</td>\n",
       "      <td>NaN</td>\n",
       "      <td>NaN</td>\n",
       "      <td>123.0</td>\n",
       "      <td>80.0</td>\n",
       "      <td>0</td>\n",
       "      <td>36.0</td>\n",
       "      <td>...</td>\n",
       "      <td>0.0</td>\n",
       "      <td>2.346680</td>\n",
       "      <td>1.797363</td>\n",
       "      <td>1.364990</td>\n",
       "      <td>0.571899</td>\n",
       "      <td>0.549316</td>\n",
       "      <td>0.792969</td>\n",
       "      <td>2</td>\n",
       "      <td>0.0</td>\n",
       "      <td>0.0</td>\n",
       "    </tr>\n",
       "    <tr>\n",
       "      <th>2</th>\n",
       "      <td>244.0</td>\n",
       "      <td>0.0</td>\n",
       "      <td>0.0</td>\n",
       "      <td>NaN</td>\n",
       "      <td>NaN</td>\n",
       "      <td>NaN</td>\n",
       "      <td>115.0</td>\n",
       "      <td>75.0</td>\n",
       "      <td>1</td>\n",
       "      <td>56.0</td>\n",
       "      <td>...</td>\n",
       "      <td>0.0</td>\n",
       "      <td>1.569580</td>\n",
       "      <td>1.513428</td>\n",
       "      <td>0.551270</td>\n",
       "      <td>0.230988</td>\n",
       "      <td>0.056198</td>\n",
       "      <td>0.320251</td>\n",
       "      <td>3</td>\n",
       "      <td>0.0</td>\n",
       "      <td>1.0</td>\n",
       "    </tr>\n",
       "    <tr>\n",
       "      <th>3</th>\n",
       "      <td>245.0</td>\n",
       "      <td>0.0</td>\n",
       "      <td>1.0</td>\n",
       "      <td>85.0</td>\n",
       "      <td>2.0</td>\n",
       "      <td>14.0</td>\n",
       "      <td>148.0</td>\n",
       "      <td>78.0</td>\n",
       "      <td>0</td>\n",
       "      <td>68.0</td>\n",
       "      <td>...</td>\n",
       "      <td>0.0</td>\n",
       "      <td>1.506592</td>\n",
       "      <td>1.451904</td>\n",
       "      <td>0.524902</td>\n",
       "      <td>0.219971</td>\n",
       "      <td>0.054794</td>\n",
       "      <td>0.304993</td>\n",
       "      <td>4</td>\n",
       "      <td>0.0</td>\n",
       "      <td>1.0</td>\n",
       "    </tr>\n",
       "    <tr>\n",
       "      <th>4</th>\n",
       "      <td>252.0</td>\n",
       "      <td>0.0</td>\n",
       "      <td>0.0</td>\n",
       "      <td>NaN</td>\n",
       "      <td>NaN</td>\n",
       "      <td>NaN</td>\n",
       "      <td>118.0</td>\n",
       "      <td>77.0</td>\n",
       "      <td>0</td>\n",
       "      <td>40.0</td>\n",
       "      <td>...</td>\n",
       "      <td>0.0</td>\n",
       "      <td>2.346680</td>\n",
       "      <td>1.797363</td>\n",
       "      <td>1.364990</td>\n",
       "      <td>0.571899</td>\n",
       "      <td>0.549316</td>\n",
       "      <td>0.792969</td>\n",
       "      <td>5</td>\n",
       "      <td>0.0</td>\n",
       "      <td>0.0</td>\n",
       "    </tr>\n",
       "  </tbody>\n",
       "</table>\n",
       "<p>5 rows × 67 columns</p>\n",
       "</div>"
      ],
      "text/plain": [
       "    seqn  qsmk  death  yrdth  modth  dadth    sbp   dbp sex   age  ...  \\\n",
       "0  233.0   0.0    0.0    NaN    NaN    NaN  175.0  96.0   0  42.0  ...   \n",
       "1  235.0   0.0    0.0    NaN    NaN    NaN  123.0  80.0   0  36.0  ...   \n",
       "2  244.0   0.0    0.0    NaN    NaN    NaN  115.0  75.0   1  56.0  ...   \n",
       "3  245.0   0.0    1.0   85.0    2.0   14.0  148.0  78.0   0  68.0  ...   \n",
       "4  252.0   0.0    0.0    NaN    NaN    NaN  118.0  77.0   0  40.0  ...   \n",
       "\n",
       "  hightax82   price71   price82     tax71     tax82  price71_82  tax71_82  id  \\\n",
       "0       0.0  2.183594  1.739990  1.102295  0.461975    0.443787  0.640381   1   \n",
       "1       0.0  2.346680  1.797363  1.364990  0.571899    0.549316  0.792969   2   \n",
       "2       0.0  1.569580  1.513428  0.551270  0.230988    0.056198  0.320251   3   \n",
       "3       0.0  1.506592  1.451904  0.524902  0.219971    0.054794  0.304993   4   \n",
       "4       0.0  2.346680  1.797363  1.364990  0.571899    0.549316  0.792969   5   \n",
       "\n",
       "   censored  older  \n",
       "0       0.0    0.0  \n",
       "1       0.0    0.0  \n",
       "2       0.0    1.0  \n",
       "3       0.0    1.0  \n",
       "4       0.0    0.0  \n",
       "\n",
       "[5 rows x 67 columns]"
      ]
     },
     "metadata": {},
     "output_type": "display_data"
    },
    {
     "data": {
      "text/plain": [
       "Index(['seqn', 'qsmk', 'death', 'yrdth', 'modth', 'dadth', 'sbp', 'dbp', 'sex',\n",
       "       'age', 'race', 'income', 'marital', 'school', 'education', 'ht', 'wt71',\n",
       "       'wt82', 'wt82_71', 'birthplace', 'smokeintensity', 'smkintensity82_71',\n",
       "       'smokeyrs', 'asthma', 'bronch', 'tb', 'hf', 'hbp', 'pepticulcer',\n",
       "       'colitis', 'hepatitis', 'chroniccough', 'hayfever', 'diabetes', 'polio',\n",
       "       'tumor', 'nervousbreak', 'alcoholpy', 'alcoholfreq', 'alcoholtype',\n",
       "       'alcoholhowmuch', 'pica', 'headache', 'otherpain', 'weakheart',\n",
       "       'allergies', 'nerves', 'lackpep', 'hbpmed', 'boweltrouble', 'wtloss',\n",
       "       'infection', 'active', 'exercise', 'birthcontrol', 'pregnancies',\n",
       "       'cholesterol', 'hightax82', 'price71', 'price82', 'tax71', 'tax82',\n",
       "       'price71_82', 'tax71_82', 'id', 'censored', 'older'],\n",
       "      dtype='object')"
      ]
     },
     "metadata": {},
     "output_type": "display_data"
    }
   ],
   "source": [
    "# Load data\n",
    "\n",
    "df = pd.DataFrame(causaldata.nhefs_complete.load_pandas().data)\n",
    "display(df.head())\n",
    "display(df.columns)"
   ]
  },
  {
   "cell_type": "code",
   "execution_count": 30,
   "id": "26778ba7",
   "metadata": {},
   "outputs": [],
   "source": [
    "# Mechanisms\n",
    "\n",
    "def laplace_mech(v, sensitivity, epsilon):\n",
    "    return v + np.random.laplace(loc=0, scale=sensitivity / epsilon)\n",
    "\n",
    "def gaussian_mech(v, sensitivity, epsilon, delta):\n",
    "    return v + np.random.normal(loc=0, scale=sensitivity * np.sqrt(2*np.log(1.25/delta)) / epsilon)\n",
    "\n",
    "def gaussian_mech_vec(vec, sensitivity, epsilon, delta):\n",
    "    return [v + np.random.normal(loc=0, scale=sensitivity * np.sqrt(2*np.log(1.25/delta)) / epsilon)\n",
    "            for v in vec]"
   ]
  },
  {
   "cell_type": "markdown",
   "id": "f6f65e1a",
   "metadata": {},
   "source": [
    "# Estimating ATEs\n",
    "\n",
    "### Binary Outcome\n",
    "\n",
    "Next, we want to evaluate the average treatment effect (ATE) of quitting smoking (```qsmk```) on ```death```. The selection of deconfounders is chosen according to _Hernán MA, Robins JM (2020). Causal Inference: What If. Boca Raton: Chapman & Hall/CRC_."
   ]
  },
  {
   "cell_type": "code",
   "execution_count": 80,
   "id": "a2b9b6f2",
   "metadata": {},
   "outputs": [],
   "source": [
    "def dp_ATE_death(epsilon):\n",
    "\n",
    "    # Fit models for expectation of death in smokers vs. in non-smokers\n",
    "\n",
    "    model_death1 = sm.formula.glm(\n",
    "        \"death ~ age + sex + race + education + wt71 + smokeintensity + smokeyrs + exercise + active\", \n",
    "        family=sm.families.Binomial(), data=df[df.qsmk==1]).fit()\n",
    "\n",
    "    model_death0 = sm.formula.glm(\n",
    "        \"death ~ age + sex + race + education + wt71 + smokeintensity + smokeyrs + exercise + active\", \n",
    "        family=sm.families.Binomial(), data=df[df.qsmk==0]).fit()\n",
    "\n",
    "    # Create dataset copies with treatment set to 1 or 0 for the whole population for standardisation\n",
    "\n",
    "    treated = df[['qsmk', 'age', 'sex', 'race', 'education', 'wt71', 'smokeintensity', 'smokeyrs', 'exercise', 'active']].copy()\n",
    "    treated.qsmk = 1\n",
    "\n",
    "    untreated = df[['qsmk', 'age', 'sex', 'race', 'education', 'wt71', 'smokeintensity', 'smokeyrs', 'exercise', 'active']].copy()\n",
    "    untreated.qsmk = 0\n",
    "\n",
    "    # Predict outcome in both populations\n",
    "\n",
    "    predict_death1 = model_death1.predict(treated)\n",
    "    predict_death0 = model_death0.predict(untreated)\n",
    "\n",
    "    ATE_death = np.mean(predict_death1 - predict_death0)\n",
    "\n",
    "    # Sensitivity is 1/n for a binary variable (ATE is bounded between 0 and 1 and is a mean over n individuals)\n",
    "    \n",
    "    noisy_count = laplace_mech(len(df), 1, epsilon*0.1) # TODO: does this even have to be noisy?\n",
    "    \n",
    "    return laplace_mech(ATE_death, 1 / noisy_count, epsilon*0.9)"
   ]
  },
  {
   "cell_type": "code",
   "execution_count": 84,
   "id": "c46596d9",
   "metadata": {},
   "outputs": [
    {
     "data": {
      "image/png": "[encoded data removed]",
      "text/plain": [
       "<Figure size 432x288 with 1 Axes>"
      ]
     },
     "metadata": {
      "needs_background": "light"
     },
     "output_type": "display_data"
    }
   ],
   "source": [
    "vals = [dp_ATE_death(1.0) for _ in range(100)]\n",
    "true_val = dp_ATE_death(np.Inf)\n",
    "plt.hist(vals, bins=20)\n",
    "plt.vlines(true_val, ymin=0, ymax=25, color='r')\n",
    "plt.show()"
   ]
  },
  {
   "cell_type": "markdown",
   "id": "72d5d51f",
   "metadata": {},
   "source": [
    "### Continuous Outcome\n",
    "\n",
    "Now, we want to analyse the ATE of quitting smoking (```qsmk```) on weight difference (```wt82_71```)."
   ]
  },
  {
   "cell_type": "code",
   "execution_count": 58,
   "id": "d1e6ab94",
   "metadata": {},
   "outputs": [],
   "source": [
    "def dp_ATE_weight(epsilon):\n",
    "\n",
    "    # Fit models for expectation of weight difference in smokers vs. in non-smokers\n",
    "\n",
    "    model_weight1 = sm.formula.ols(\n",
    "        \"wt82_71 ~ age + sex + race + education + wt71 + smokeintensity + smokeyrs + exercise + active\", \n",
    "        data=df[df.qsmk==1]).fit()\n",
    "\n",
    "    model_weight0 = sm.formula.ols(\n",
    "        \"wt82_71 ~ age + sex + race + education + wt71 + smokeintensity + smokeyrs + exercise + active\", \n",
    "        data=df[df.qsmk==0]).fit()\n",
    "\n",
    "    # Create dataset copies with treatment set to 1 or 0 for the whole population fro standardisation\n",
    "\n",
    "    treated = df[['qsmk', 'age', 'sex', 'race', 'education', 'wt71', 'smokeintensity', 'smokeyrs', 'exercise', 'active']].copy()\n",
    "    treated.qsmk = 1\n",
    "\n",
    "    untreated = df[['qsmk', 'age', 'sex', 'race', 'education', 'wt71', 'smokeintensity', 'smokeyrs', 'exercise', 'active']].copy()\n",
    "    untreated.qsmk = 0\n",
    "\n",
    "    # Predict outcome in both populations\n",
    "\n",
    "    predict_weight1 = model_weight1.predict(treated)\n",
    "    predict_weight0 = model_weight0.predict(untreated)\n",
    "    \n",
    "    display(max(df['wt82_71']))\n",
    "    display(max(predict_weight1))\n",
    "    display(max(predict_weight0))\n",
    "\n",
    "\n",
    "    ATE_weight = np.mean(predict_weight1) - np.mean(predict_weight0)\n",
    "    \n",
    "\n",
    "    # TODO: find sensitivity\n",
    "    # -> it's a mean so get noisy max, noisy count and divide (problem is predicted max could be bigger\n",
    "    # than max in dataset)\n",
    "    \n",
    "    return laplace_mech(ATE_weight, 25, epsilon)"
   ]
  },
  {
   "cell_type": "code",
   "execution_count": 59,
   "id": "8ab0b906",
   "metadata": {},
   "outputs": [
    {
     "data": {
      "text/plain": [
       "48.53838568000002"
      ]
     },
     "metadata": {},
     "output_type": "display_data"
    },
    {
     "data": {
      "text/plain": [
       "12.711174000238213"
      ]
     },
     "metadata": {},
     "output_type": "display_data"
    },
    {
     "data": {
      "text/plain": [
       "7.727916789740595"
      ]
     },
     "metadata": {},
     "output_type": "display_data"
    },
    {
     "data": {
      "text/plain": [
       "72.98515781520189"
      ]
     },
     "execution_count": 59,
     "metadata": {},
     "output_type": "execute_result"
    }
   ],
   "source": [
    "dp_ATE_weight(1)"
   ]
  },
  {
   "cell_type": "code",
   "execution_count": null,
   "id": "0618369c",
   "metadata": {},
   "outputs": [],
   "source": []
  },
  {
   "cell_type": "code",
   "execution_count": null,
   "id": "39eb8092",
   "metadata": {},
   "outputs": [],
   "source": []
  }
 ],
 "metadata": {
  "kernelspec": {
   "display_name": "Python 3 (ipykernel)",
   "language": "python",
   "name": "python3"
  },
  "language_info": {
   "codemirror_mode": {
    "name": "ipython",
    "version": 3
   },
   "file_extension": ".py",
   "mimetype": "text/x-python",
   "name": "python",
   "nbconvert_exporter": "python",
   "pygments_lexer": "ipython3",
   "version": "3.9.12"
  }
 },
 "nbformat": 4,
 "nbformat_minor": 5
}
